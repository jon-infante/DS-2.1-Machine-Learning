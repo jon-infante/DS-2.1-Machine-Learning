{
 "cells": [
  {
   "cell_type": "code",
   "execution_count": 42,
   "metadata": {},
   "outputs": [],
   "source": [
    "from sklearn.datasets import load_boston\n",
    "import pandas as pd\n",
    "import numpy as np\n",
    "import matplotlib.pyplot as plt\n",
    "\n",
    "boston = load_boston()\n",
    "bos = pd.DataFrame(boston.data)\n",
    "\n",
    "bos.columns = boston.feature_names\n",
    "bos['PRICE'] = boston.target"
   ]
  },
  {
   "cell_type": "code",
   "execution_count": 43,
   "metadata": {},
   "outputs": [
    {
     "data": {
      "text/html": [
       "<div>\n",
       "<style scoped>\n",
       "    .dataframe tbody tr th:only-of-type {\n",
       "        vertical-align: middle;\n",
       "    }\n",
       "\n",
       "    .dataframe tbody tr th {\n",
       "        vertical-align: top;\n",
       "    }\n",
       "\n",
       "    .dataframe thead th {\n",
       "        text-align: right;\n",
       "    }\n",
       "</style>\n",
       "<table border=\"1\" class=\"dataframe\">\n",
       "  <thead>\n",
       "    <tr style=\"text-align: right;\">\n",
       "      <th></th>\n",
       "      <th>CRIM</th>\n",
       "      <th>ZN</th>\n",
       "      <th>INDUS</th>\n",
       "      <th>CHAS</th>\n",
       "      <th>NOX</th>\n",
       "      <th>RM</th>\n",
       "      <th>AGE</th>\n",
       "      <th>DIS</th>\n",
       "      <th>RAD</th>\n",
       "      <th>TAX</th>\n",
       "      <th>PTRATIO</th>\n",
       "      <th>B</th>\n",
       "      <th>LSTAT</th>\n",
       "      <th>PRICE</th>\n",
       "    </tr>\n",
       "  </thead>\n",
       "  <tbody>\n",
       "    <tr>\n",
       "      <td>0</td>\n",
       "      <td>0.00632</td>\n",
       "      <td>18.0</td>\n",
       "      <td>2.31</td>\n",
       "      <td>0.0</td>\n",
       "      <td>0.538</td>\n",
       "      <td>6.575</td>\n",
       "      <td>65.2</td>\n",
       "      <td>4.0900</td>\n",
       "      <td>1.0</td>\n",
       "      <td>296.0</td>\n",
       "      <td>15.3</td>\n",
       "      <td>396.90</td>\n",
       "      <td>4.98</td>\n",
       "      <td>24.0</td>\n",
       "    </tr>\n",
       "    <tr>\n",
       "      <td>1</td>\n",
       "      <td>0.02731</td>\n",
       "      <td>0.0</td>\n",
       "      <td>7.07</td>\n",
       "      <td>0.0</td>\n",
       "      <td>0.469</td>\n",
       "      <td>6.421</td>\n",
       "      <td>78.9</td>\n",
       "      <td>4.9671</td>\n",
       "      <td>2.0</td>\n",
       "      <td>242.0</td>\n",
       "      <td>17.8</td>\n",
       "      <td>396.90</td>\n",
       "      <td>9.14</td>\n",
       "      <td>21.6</td>\n",
       "    </tr>\n",
       "    <tr>\n",
       "      <td>2</td>\n",
       "      <td>0.02729</td>\n",
       "      <td>0.0</td>\n",
       "      <td>7.07</td>\n",
       "      <td>0.0</td>\n",
       "      <td>0.469</td>\n",
       "      <td>7.185</td>\n",
       "      <td>61.1</td>\n",
       "      <td>4.9671</td>\n",
       "      <td>2.0</td>\n",
       "      <td>242.0</td>\n",
       "      <td>17.8</td>\n",
       "      <td>392.83</td>\n",
       "      <td>4.03</td>\n",
       "      <td>34.7</td>\n",
       "    </tr>\n",
       "    <tr>\n",
       "      <td>3</td>\n",
       "      <td>0.03237</td>\n",
       "      <td>0.0</td>\n",
       "      <td>2.18</td>\n",
       "      <td>0.0</td>\n",
       "      <td>0.458</td>\n",
       "      <td>6.998</td>\n",
       "      <td>45.8</td>\n",
       "      <td>6.0622</td>\n",
       "      <td>3.0</td>\n",
       "      <td>222.0</td>\n",
       "      <td>18.7</td>\n",
       "      <td>394.63</td>\n",
       "      <td>2.94</td>\n",
       "      <td>33.4</td>\n",
       "    </tr>\n",
       "    <tr>\n",
       "      <td>4</td>\n",
       "      <td>0.06905</td>\n",
       "      <td>0.0</td>\n",
       "      <td>2.18</td>\n",
       "      <td>0.0</td>\n",
       "      <td>0.458</td>\n",
       "      <td>7.147</td>\n",
       "      <td>54.2</td>\n",
       "      <td>6.0622</td>\n",
       "      <td>3.0</td>\n",
       "      <td>222.0</td>\n",
       "      <td>18.7</td>\n",
       "      <td>396.90</td>\n",
       "      <td>5.33</td>\n",
       "      <td>36.2</td>\n",
       "    </tr>\n",
       "  </tbody>\n",
       "</table>\n",
       "</div>"
      ],
      "text/plain": [
       "      CRIM    ZN  INDUS  CHAS    NOX     RM   AGE     DIS  RAD    TAX  \\\n",
       "0  0.00632  18.0   2.31   0.0  0.538  6.575  65.2  4.0900  1.0  296.0   \n",
       "1  0.02731   0.0   7.07   0.0  0.469  6.421  78.9  4.9671  2.0  242.0   \n",
       "2  0.02729   0.0   7.07   0.0  0.469  7.185  61.1  4.9671  2.0  242.0   \n",
       "3  0.03237   0.0   2.18   0.0  0.458  6.998  45.8  6.0622  3.0  222.0   \n",
       "4  0.06905   0.0   2.18   0.0  0.458  7.147  54.2  6.0622  3.0  222.0   \n",
       "\n",
       "   PTRATIO       B  LSTAT  PRICE  \n",
       "0     15.3  396.90   4.98   24.0  \n",
       "1     17.8  396.90   9.14   21.6  \n",
       "2     17.8  392.83   4.03   34.7  \n",
       "3     18.7  394.63   2.94   33.4  \n",
       "4     18.7  396.90   5.33   36.2  "
      ]
     },
     "execution_count": 43,
     "metadata": {},
     "output_type": "execute_result"
    }
   ],
   "source": [
    "bos.head()"
   ]
  },
  {
   "cell_type": "markdown",
   "metadata": {},
   "source": [
    "**CRIM**: a numeric vector of per capita crime\n",
    "\n",
    "**ZN**: a numeric vector of proportions of residential land zoned for lots over 25000 sq. ft per town (constant for all Boston tracts)\n",
    "\n",
    "**INDUS**: a numeric vector of proportions of non-retail business acres per town (constant for all Boston tracts)\n",
    "\n",
    "**CHAS**: a factor with levels 1 if tract borders Charles River; 0 otherwise\n",
    "\n",
    "**NOX**: a numeric vector of nitric oxides concentration (parts per 10 million) per town\n",
    "\n",
    "**RM**: a numeric vector of average numbers of rooms per dwelling\n",
    "\n",
    "**AGE**: a numeric vector of proportions of owner-occupied units built prior to 1940\n",
    "\n",
    "**DIS**: a numeric vector of weighted distances to five Boston employment centres\n",
    "\n",
    "**RAD**: a numeric vector of an index of accessibility to radial highways per town (constant for all Boston tracts)\n",
    "\n",
    "**TAX**: a numeric vector full-value property-tax rate per USD 10,000 per town (constant for all Boston tracts)\n",
    "\n",
    "**PTRATIO**: a numeric vector of pupil-teacher ratios per town (constant for all Boston tracts)\n",
    "\n",
    "**B**: a numeric vector of 1000*(Bk - 0.63)^2 where Bk is the proportion of blacks\n",
    "\n",
    "**LSTAT**: a numeric vector of percentage values of lower status population\n",
    "\n",
    "**PRICE**: price of the house\n"
   ]
  },
  {
   "cell_type": "code",
   "execution_count": 44,
   "metadata": {},
   "outputs": [
    {
     "data": {
      "image/png": "[encoded data removed]",
      "text/plain": [
       "<Figure size 432x288 with 2 Axes>"
      ]
     },
     "metadata": {},
     "output_type": "display_data"
    }
   ],
   "source": [
    "import seaborn as sns\n",
    "matrix = np.triu(bos.corr())\n",
    "ax = sns.heatmap(bos.corr(), mask=matrix)"
   ]
  },
  {
   "cell_type": "code",
   "execution_count": 78,
   "metadata": {},
   "outputs": [
    {
     "ename": "ValueError",
     "evalue": "Expected 2D array, got 1D array instead:\narray=[ 65.2  78.9  61.1  45.8  54.2  58.7  66.6  96.1 100.   85.9  94.3  82.9\n  39.   61.8  84.5  56.5  29.3  81.7  36.6  69.5  98.1  89.2  91.7 100.\n  94.1  85.7  90.3  88.8  94.4  87.3  94.1 100.   82.   95.   96.9  68.2\n  61.4  41.5  30.2  21.8  15.8   2.9   6.6   6.5  40.   33.8  33.3  85.5\n  95.3  62.   45.7  63.   21.1  21.4  47.6  21.9  35.7  40.5  29.2  47.2\n  66.2  93.4  67.8  43.4  59.5  17.8  31.1  21.4  36.8  33.    6.6  17.5\n   7.8   6.2   6.   45.   74.5  45.8  53.7  36.6  33.5  70.4  32.2  46.7\n  48.   56.1  45.1  56.8  86.3  63.1  66.1  73.9  53.6  28.9  77.3  57.8\n  69.6  76.   36.9  62.5  79.9  71.3  85.4  87.4  90.   96.7  91.9  85.2\n  97.1  91.2  54.4  81.6  92.9  95.4  84.2  88.2  72.5  82.6  73.1  65.2\n  69.7  84.1  92.9  97.   95.8  88.4  95.6  96.   98.8  94.7  98.9  97.7\n  97.9  95.4  98.4  98.2  93.5  98.4  98.2  97.9  93.6 100.  100.  100.\n  97.8 100.  100.   95.7  93.8  94.9  97.3 100.   88.   98.5  96.   82.6\n  94.   97.4 100.  100.   92.6  90.8  98.2  93.9  91.8  93.   96.2  79.2\n  96.1  95.2  94.6  97.3  88.5  84.1  68.7  33.1  47.2  73.4  74.4  58.4\n  83.3  62.2  92.2  95.6  89.8  68.8  53.6  41.1  29.1  38.9  21.5  30.8\n  26.3   9.9  18.8  32.   34.1  36.6  38.3  15.3  13.9  38.4  15.7  33.2\n  31.9  22.3  52.5  72.7  59.1 100.   92.1  88.6  53.8  32.3   9.8  42.4\n  56.   85.1  93.8  92.4  88.5  91.3  77.7  80.8  78.3  83.   86.5  79.9\n  17.   21.4  68.1  76.9  73.3  70.4  66.5  61.5  76.5  71.6  18.5  42.2\n  54.3  65.1  52.9   7.8  76.5  70.2  34.9  79.2  49.1  17.5  13.    8.9\n   6.8   8.4  32.   19.1  34.2  86.9 100.  100.   81.8  89.4  91.5  94.5\n  91.6  62.8  84.6  67.   52.6  61.5  42.1  16.3  58.7  51.8  32.9  42.8\n  49.   27.6  32.1  32.2  64.5  37.2  49.7  24.8  20.8  31.9  31.5  31.3\n  45.6  22.9  27.9  27.7  23.4  18.4  42.3  31.1  51.   58.   20.1  10.\n  47.4  40.4  18.4  17.7  41.1  58.1  71.9  70.3  82.5  76.7  37.8  52.8\n  90.4  82.8  87.3  77.7  83.2  71.7  67.2  58.8  52.3  54.3  49.9  74.3\n  40.1  14.7  28.9  43.7  25.8  17.2  32.2  28.4  23.3  38.1  38.5  34.5\n  46.3  59.6  37.3  45.4  58.5  49.3  59.7  56.4  28.1  48.5  52.3  27.7\n  29.7  34.5  44.4  35.9  18.5  36.1  21.9  19.5  97.4  91.   83.4  81.3\n  88.   91.1  96.2  89.   82.9  87.9  91.4 100.  100.   96.8  97.5 100.\n  89.6 100.  100.   97.9  93.3  98.8  96.2 100.   91.9  99.1 100.  100.\n  91.2  98.1 100.   89.5 100.   98.9  97.   82.5  97.   92.6  94.7  98.8\n  96.   98.9 100.   77.8 100.  100.  100.   96.   85.4 100.  100.  100.\n  97.9 100.  100.  100.  100.  100.  100.  100.   90.8  89.1 100.   76.5\n 100.   95.3  87.6  85.1  70.6  95.4  59.7  78.7  78.1  95.6  86.1  94.3\n  74.8  87.9  95.   94.6  93.3 100.   87.9  93.9  92.4  97.2 100.  100.\n  96.6  94.8  96.4  96.6  98.7  98.3  92.6  98.2  91.8  99.3  94.1  86.5\n  87.9  80.3  83.7  84.4  90.   88.4  83.   89.9  65.4  48.2  84.7  94.5\n  71.   56.7  84.   90.7  75.   67.6  95.4  97.4  93.6  97.3  96.7  88.\n  64.7  74.9  77.   40.3  41.9  51.9  79.8  53.2  92.7  98.3  98.   98.8\n  83.5  54.   42.6  28.8  72.9  70.6  65.3  73.5  79.7  69.1  76.7  91.\n  89.3  80.8].\nReshape your data either using array.reshape(-1, 1) if your data has a single feature or array.reshape(1, -1) if it contains a single sample.",
     "output_type": "error",
     "traceback": [
      "\u001b[0;31m---------------------------------------------------------------------------\u001b[0m",
      "\u001b[0;31mValueError\u001b[0m                                Traceback (most recent call last)",
      "\u001b[0;32m<ipython-input-78-625c211a81c1>\u001b[0m in \u001b[0;36m<module>\u001b[0;34m\u001b[0m\n\u001b[1;32m      8\u001b[0m \u001b[0;34m\u001b[0m\u001b[0m\n\u001b[1;32m      9\u001b[0m \u001b[0mregressor\u001b[0m \u001b[0;34m=\u001b[0m \u001b[0mLinearRegression\u001b[0m\u001b[0;34m(\u001b[0m\u001b[0;34m)\u001b[0m\u001b[0;34m\u001b[0m\u001b[0;34m\u001b[0m\u001b[0m\n\u001b[0;32m---> 10\u001b[0;31m \u001b[0mregressor\u001b[0m\u001b[0;34m.\u001b[0m\u001b[0mfit\u001b[0m\u001b[0;34m(\u001b[0m\u001b[0mx\u001b[0m\u001b[0;34m,\u001b[0m \u001b[0my\u001b[0m\u001b[0;34m)\u001b[0m \u001b[0;31m#training the algorithm\u001b[0m\u001b[0;34m\u001b[0m\u001b[0;34m\u001b[0m\u001b[0m\n\u001b[0m\u001b[1;32m     11\u001b[0m \u001b[0my_pred\u001b[0m \u001b[0;34m=\u001b[0m \u001b[0mregressor\u001b[0m\u001b[0;34m.\u001b[0m\u001b[0mpredict\u001b[0m\u001b[0;34m(\u001b[0m\u001b[0mx\u001b[0m\u001b[0;34m)\u001b[0m\u001b[0;34m\u001b[0m\u001b[0;34m\u001b[0m\u001b[0m\n\u001b[1;32m     12\u001b[0m \u001b[0;34m\u001b[0m\u001b[0m\n",
      "\u001b[0;32m/usr/local/lib/python3.7/site-packages/sklearn/linear_model/_base.py\u001b[0m in \u001b[0;36mfit\u001b[0;34m(self, X, y, sample_weight)\u001b[0m\n\u001b[1;32m    490\u001b[0m         \u001b[0mn_jobs_\u001b[0m \u001b[0;34m=\u001b[0m \u001b[0mself\u001b[0m\u001b[0;34m.\u001b[0m\u001b[0mn_jobs\u001b[0m\u001b[0;34m\u001b[0m\u001b[0;34m\u001b[0m\u001b[0m\n\u001b[1;32m    491\u001b[0m         X, y = check_X_y(X, y, accept_sparse=['csr', 'csc', 'coo'],\n\u001b[0;32m--> 492\u001b[0;31m                          y_numeric=True, multi_output=True)\n\u001b[0m\u001b[1;32m    493\u001b[0m \u001b[0;34m\u001b[0m\u001b[0m\n\u001b[1;32m    494\u001b[0m         \u001b[0;32mif\u001b[0m \u001b[0msample_weight\u001b[0m \u001b[0;32mis\u001b[0m \u001b[0;32mnot\u001b[0m \u001b[0;32mNone\u001b[0m\u001b[0;34m:\u001b[0m\u001b[0;34m\u001b[0m\u001b[0;34m\u001b[0m\u001b[0m\n",
      "\u001b[0;32m/usr/local/lib/python3.7/site-packages/sklearn/utils/validation.py\u001b[0m in \u001b[0;36mcheck_X_y\u001b[0;34m(X, y, accept_sparse, accept_large_sparse, dtype, order, copy, force_all_finite, ensure_2d, allow_nd, multi_output, ensure_min_samples, ensure_min_features, y_numeric, warn_on_dtype, estimator)\u001b[0m\n\u001b[1;32m    753\u001b[0m                     \u001b[0mensure_min_features\u001b[0m\u001b[0;34m=\u001b[0m\u001b[0mensure_min_features\u001b[0m\u001b[0;34m,\u001b[0m\u001b[0;34m\u001b[0m\u001b[0;34m\u001b[0m\u001b[0m\n\u001b[1;32m    754\u001b[0m                     \u001b[0mwarn_on_dtype\u001b[0m\u001b[0;34m=\u001b[0m\u001b[0mwarn_on_dtype\u001b[0m\u001b[0;34m,\u001b[0m\u001b[0;34m\u001b[0m\u001b[0;34m\u001b[0m\u001b[0m\n\u001b[0;32m--> 755\u001b[0;31m                     estimator=estimator)\n\u001b[0m\u001b[1;32m    756\u001b[0m     \u001b[0;32mif\u001b[0m \u001b[0mmulti_output\u001b[0m\u001b[0;34m:\u001b[0m\u001b[0;34m\u001b[0m\u001b[0;34m\u001b[0m\u001b[0m\n\u001b[1;32m    757\u001b[0m         y = check_array(y, 'csr', force_all_finite=True, ensure_2d=False,\n",
      "\u001b[0;32m/usr/local/lib/python3.7/site-packages/sklearn/utils/validation.py\u001b[0m in \u001b[0;36mcheck_array\u001b[0;34m(array, accept_sparse, accept_large_sparse, dtype, order, copy, force_all_finite, ensure_2d, allow_nd, ensure_min_samples, ensure_min_features, warn_on_dtype, estimator)\u001b[0m\n\u001b[1;32m    554\u001b[0m                     \u001b[0;34m\"Reshape your data either using array.reshape(-1, 1) if \"\u001b[0m\u001b[0;34m\u001b[0m\u001b[0;34m\u001b[0m\u001b[0m\n\u001b[1;32m    555\u001b[0m                     \u001b[0;34m\"your data has a single feature or array.reshape(1, -1) \"\u001b[0m\u001b[0;34m\u001b[0m\u001b[0;34m\u001b[0m\u001b[0m\n\u001b[0;32m--> 556\u001b[0;31m                     \"if it contains a single sample.\".format(array))\n\u001b[0m\u001b[1;32m    557\u001b[0m \u001b[0;34m\u001b[0m\u001b[0m\n\u001b[1;32m    558\u001b[0m         \u001b[0;31m# in the future np.flexible dtypes will be handled like object dtypes\u001b[0m\u001b[0;34m\u001b[0m\u001b[0;34m\u001b[0m\u001b[0;34m\u001b[0m\u001b[0m\n",
      "\u001b[0;31mValueError\u001b[0m: Expected 2D array, got 1D array instead:\narray=[ 65.2  78.9  61.1  45.8  54.2  58.7  66.6  96.1 100.   85.9  94.3  82.9\n  39.   61.8  84.5  56.5  29.3  81.7  36.6  69.5  98.1  89.2  91.7 100.\n  94.1  85.7  90.3  88.8  94.4  87.3  94.1 100.   82.   95.   96.9  68.2\n  61.4  41.5  30.2  21.8  15.8   2.9   6.6   6.5  40.   33.8  33.3  85.5\n  95.3  62.   45.7  63.   21.1  21.4  47.6  21.9  35.7  40.5  29.2  47.2\n  66.2  93.4  67.8  43.4  59.5  17.8  31.1  21.4  36.8  33.    6.6  17.5\n   7.8   6.2   6.   45.   74.5  45.8  53.7  36.6  33.5  70.4  32.2  46.7\n  48.   56.1  45.1  56.8  86.3  63.1  66.1  73.9  53.6  28.9  77.3  57.8\n  69.6  76.   36.9  62.5  79.9  71.3  85.4  87.4  90.   96.7  91.9  85.2\n  97.1  91.2  54.4  81.6  92.9  95.4  84.2  88.2  72.5  82.6  73.1  65.2\n  69.7  84.1  92.9  97.   95.8  88.4  95.6  96.   98.8  94.7  98.9  97.7\n  97.9  95.4  98.4  98.2  93.5  98.4  98.2  97.9  93.6 100.  100.  100.\n  97.8 100.  100.   95.7  93.8  94.9  97.3 100.   88.   98.5  96.   82.6\n  94.   97.4 100.  100.   92.6  90.8  98.2  93.9  91.8  93.   96.2  79.2\n  96.1  95.2  94.6  97.3  88.5  84.1  68.7  33.1  47.2  73.4  74.4  58.4\n  83.3  62.2  92.2  95.6  89.8  68.8  53.6  41.1  29.1  38.9  21.5  30.8\n  26.3   9.9  18.8  32.   34.1  36.6  38.3  15.3  13.9  38.4  15.7  33.2\n  31.9  22.3  52.5  72.7  59.1 100.   92.1  88.6  53.8  32.3   9.8  42.4\n  56.   85.1  93.8  92.4  88.5  91.3  77.7  80.8  78.3  83.   86.5  79.9\n  17.   21.4  68.1  76.9  73.3  70.4  66.5  61.5  76.5  71.6  18.5  42.2\n  54.3  65.1  52.9   7.8  76.5  70.2  34.9  79.2  49.1  17.5  13.    8.9\n   6.8   8.4  32.   19.1  34.2  86.9 100.  100.   81.8  89.4  91.5  94.5\n  91.6  62.8  84.6  67.   52.6  61.5  42.1  16.3  58.7  51.8  32.9  42.8\n  49.   27.6  32.1  32.2  64.5  37.2  49.7  24.8  20.8  31.9  31.5  31.3\n  45.6  22.9  27.9  27.7  23.4  18.4  42.3  31.1  51.   58.   20.1  10.\n  47.4  40.4  18.4  17.7  41.1  58.1  71.9  70.3  82.5  76.7  37.8  52.8\n  90.4  82.8  87.3  77.7  83.2  71.7  67.2  58.8  52.3  54.3  49.9  74.3\n  40.1  14.7  28.9  43.7  25.8  17.2  32.2  28.4  23.3  38.1  38.5  34.5\n  46.3  59.6  37.3  45.4  58.5  49.3  59.7  56.4  28.1  48.5  52.3  27.7\n  29.7  34.5  44.4  35.9  18.5  36.1  21.9  19.5  97.4  91.   83.4  81.3\n  88.   91.1  96.2  89.   82.9  87.9  91.4 100.  100.   96.8  97.5 100.\n  89.6 100.  100.   97.9  93.3  98.8  96.2 100.   91.9  99.1 100.  100.\n  91.2  98.1 100.   89.5 100.   98.9  97.   82.5  97.   92.6  94.7  98.8\n  96.   98.9 100.   77.8 100.  100.  100.   96.   85.4 100.  100.  100.\n  97.9 100.  100.  100.  100.  100.  100.  100.   90.8  89.1 100.   76.5\n 100.   95.3  87.6  85.1  70.6  95.4  59.7  78.7  78.1  95.6  86.1  94.3\n  74.8  87.9  95.   94.6  93.3 100.   87.9  93.9  92.4  97.2 100.  100.\n  96.6  94.8  96.4  96.6  98.7  98.3  92.6  98.2  91.8  99.3  94.1  86.5\n  87.9  80.3  83.7  84.4  90.   88.4  83.   89.9  65.4  48.2  84.7  94.5\n  71.   56.7  84.   90.7  75.   67.6  95.4  97.4  93.6  97.3  96.7  88.\n  64.7  74.9  77.   40.3  41.9  51.9  79.8  53.2  92.7  98.3  98.   98.8\n  83.5  54.   42.6  28.8  72.9  70.6  65.3  73.5  79.7  69.1  76.7  91.\n  89.3  80.8].\nReshape your data either using array.reshape(-1, 1) if your data has a single feature or array.reshape(1, -1) if it contains a single sample."
     ]
    }
   ],
   "source": [
    "from sklearn.linear_model import LinearRegression\n",
    "\n",
    "\n",
    "x = bos['AGE']\n",
    "y = bos['PRICE']\n",
    "\n",
    "x_reshaped = x.values.reshape(-1, 1)\n",
    "\n",
    "regressor = LinearRegression()  \n",
    "regressor.fit(x, y) #training the algorithm\n",
    "y_pred = regressor.predict(x)\n",
    "\n",
    "fig, ax = plt.subplots()\n",
    "\n",
    "ax.set_xlabel('Age', fontsize=10)\n",
    "ax.set_ylabel('Price', fontsize=10)\n",
    "ax.set_title('Age vs Price')\n",
    "\n",
    "ax.scatter(x, y, c=colors, alpha=0.3)\n",
    "plt.plot(x_reshaped, y_pred, color='red')\n",
    "\n",
    "plt.show()"
   ]
  },
  {
   "cell_type": "markdown",
   "metadata": {},
   "source": [
    "## Generally as the age of the house goes up, the price goes down"
   ]
  },
  {
   "cell_type": "code",
   "execution_count": 9,
   "metadata": {},
   "outputs": [],
   "source": [
    "from sklearn.model_selection import train_test_split\n",
    "\n",
    "#Getting train and test data\n",
    "X = bos[bos.columns]\n",
    "Y = bos['PRICE']\n",
    "#Randomly sampling 75% of the data and 25% for tests\n",
    "X_train, X_test, Y_train, Y_test = train_test_split(X, Y, test_size=0.25, random_state=0)"
   ]
  },
  {
   "cell_type": "code",
   "execution_count": null,
   "metadata": {},
   "outputs": [],
   "source": []
  }
 ],
 "metadata": {
  "kernelspec": {
   "display_name": "Python 3",
   "language": "python",
   "name": "python3"
  },
  "language_info": {
   "codemirror_mode": {
    "name": "ipython",
    "version": 3
   },
   "file_extension": ".py",
   "mimetype": "text/x-python",
   "name": "python",
   "nbconvert_exporter": "python",
   "pygments_lexer": "ipython3",
   "version": "3.7.4"
  }
 },
 "nbformat": 4,
 "nbformat_minor": 2
}
