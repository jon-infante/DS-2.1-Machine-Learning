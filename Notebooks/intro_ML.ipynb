{
 "cells": [
  {
   "cell_type": "markdown",
   "metadata": {
    "slideshow": {
     "slide_type": "slide"
    }
   },
   "source": [
    "## What we have learned in DS 1.1 as a Data Analyst? \n",
    "\n",
    "* Learned the principles of effective storytelling\n",
    "\n",
    "* You begin making proposals and decisions based on analysis\n",
    "\n",
    "* You Explorated Data Analysis (EDA), you focused on the basics of statistical inference, hypothesis testing, correlation\n",
    "\n",
    "* Check this out as a good resource for Data Analyst/ Data Engineer/ Data Scientist roles:\n",
    "\n",
    "https://www.springboard.com/blog/wp-content/uploads/2016/07/UltimateGuidetoDataScienceInterviews-1.pdf"
   ]
  },
  {
   "cell_type": "markdown",
   "metadata": {
    "slideshow": {
     "slide_type": "slide"
    }
   },
   "source": [
    "## What we are going to learn in DS 2.1 which covers Machine Learning?\n",
    "\n",
    "### what is machine learning?\n",
    "\n",
    "* Use data and algorithm that predict or classify the useen upcoming data with acceptable accuracy\n",
    "\n",
    "### Two major machine learning algorithm:\n",
    "\n",
    "1. Supervised Learning\n",
    "\n",
    "2. Unsupervised Learning\n",
    "\n",
    "The supevised learning is used to do:\n",
    "\n",
    "1. Regression --> Temporature prediction, stock market prediction, next purchased item prediction\n",
    "\n",
    "2. Classification --> Is an email spam or not-spam, is dog in the image or cat, is a comment about a post positive or negative or neutral \n",
    "\n",
    "The unspurvised learning is used to do:\n",
    "\n",
    "1. Cluster data into groups\n",
    "\n",
    "2. Reduce the dimention of features"
   ]
  },
  {
   "cell_type": "markdown",
   "metadata": {
    "slideshow": {
     "slide_type": "slide"
    }
   },
   "source": [
    "## Machine Learning Components:\n",
    "\n",
    "<img src=\"Images/machine-learning.png\">"
   ]
  },
  {
   "cell_type": "markdown",
   "metadata": {
    "slideshow": {
     "slide_type": "slide"
    }
   },
   "source": [
    "## What Level of Math Do We Need for Machine Learning?\n",
    "\n",
    "I do recommend to refresh or learn the following topics:\n",
    "\n",
    "1. Calculus\n",
    "\n",
    "2. Linear Algebra\n",
    "\n",
    "3. Probability and styatistics\n",
    "\n",
    "<img src=\"Images/intro_2.png\" width=\"500\">"
   ]
  },
  {
   "cell_type": "markdown",
   "metadata": {},
   "source": [
    "## DS 1.1 and DS 2.1 Comparison\n",
    "\n",
    "In DS 1.1, for example when use Titanic dataset, we were interested to explore the data:\n",
    "\n",
    "1- How many female passenger survived at section C?\n",
    "\n",
    "In DS 2.1, we are interested in predicting:\n",
    "\n",
    "1- If we know a passenger was female, young, embarked at section C and her Pclass was 1, predict has she survived or not?"
   ]
  },
  {
   "cell_type": "markdown",
   "metadata": {},
   "source": [
    "## Data Precrosessing for Machine Learning:"
   ]
  },
  {
   "cell_type": "markdown",
   "metadata": {
    "slideshow": {
     "slide_type": "slide"
    }
   },
   "source": [
    "### Scaling, Normalization, One-hot encoding, Label encoding\n",
    "\n",
    "Please read: https://www.tutorialspoint.com/machine_learning_with_python/machine_learning_with_python_quick_guide.htm\n",
    "\n",
    "Please read: http://scikit-learn.org/stable/modules/preprocessing.html\n",
    "\n",
    "http://scikit-learn.org/stable/modules/generated/sklearn.preprocessing.normalize.html\n",
    "\n",
    "Also, look at the first page here: https://www.analyticsvidhya.com/infographics/Scikit-Learn-Infographic.pdf"
   ]
  },
  {
   "cell_type": "markdown",
   "metadata": {},
   "source": [
    "## Activity: A two dimensional array (Matrix) X is given, write a function that:\n",
    "\n",
    "- Subtract the minimum element of each column from all the elements of that column\n",
    "\n",
    "- Then devide the result to the range of value for each column\n",
    "\n",
    "Hint: range is the difference between the maximum element and minimum element of each column"
   ]
  },
  {
   "cell_type": "code",
   "execution_count": 3,
   "metadata": {},
   "outputs": [
    {
     "name": "stdout",
     "output_type": "stream",
     "text": [
      "[[0. 0.]\n",
      " [1. 1.]]\n"
     ]
    }
   ],
   "source": [
    "import numpy as np\n",
    "\n",
    "def max_min_s(X):\n",
    "    return (X - X.min(axis=0)) / (X.max(axis=0) - X.min(axis=0))\n",
    "\n",
    "X_train = np.array([[1000.0, 2.0], [1500.0, 3.0]])\n",
    "print(max_min_s(X_train))"
   ]
  },
  {
   "cell_type": "code",
   "execution_count": 4,
   "metadata": {},
   "outputs": [
    {
     "name": "stdout",
     "output_type": "stream",
     "text": [
      "[[0. 0.]\n",
      " [1. 1.]]\n"
     ]
    }
   ],
   "source": [
    "from sklearn import preprocessing\n",
    "\n",
    "min_max_scaler = preprocessing.MinMaxScaler()\n",
    "X_minmax = min_max_scaler.fit_transform(X_train)\n",
    "print(X_minmax)"
   ]
  },
  {
   "cell_type": "code",
   "execution_count": 9,
   "metadata": {},
   "outputs": [
    {
     "name": "stdout",
     "output_type": "stream",
     "text": [
      "0.19.1\n"
     ]
    }
   ],
   "source": [
    "import sklearn\n",
    "print(sklearn.__version__)"
   ]
  },
  {
   "cell_type": "markdown",
   "metadata": {},
   "source": [
    "## Activity: A two dimensional array (Matrix) X is given, write a function that:\n",
    "\n",
    "- Subtract the mean element of each column from all the elements of that column\n",
    "\n",
    "- Then devide the result to the standard deviation of value for each column"
   ]
  },
  {
   "cell_type": "code",
   "execution_count": 10,
   "metadata": {},
   "outputs": [
    {
     "name": "stdout",
     "output_type": "stream",
     "text": [
      "[[-1. -1.]\n",
      " [ 1.  1.]]\n"
     ]
    }
   ],
   "source": [
    "def standard_s(X):\n",
    "    return (X - X.mean(axis=0)) /X.std(axis=0) \n",
    "\n",
    "print(standard_s(X_train))"
   ]
  },
  {
   "cell_type": "code",
   "execution_count": 6,
   "metadata": {},
   "outputs": [
    {
     "name": "stdout",
     "output_type": "stream",
     "text": [
      "[[-1. -1.]\n",
      " [ 1.  1.]]\n"
     ]
    }
   ],
   "source": [
    "standard_scaler = preprocessing.StandardScaler()\n",
    "X_ss = standard_scaler.fit_transform(X_train)\n",
    "print(X_ss)"
   ]
  },
  {
   "cell_type": "markdown",
   "metadata": {
    "slideshow": {
     "slide_type": "slide"
    }
   },
   "source": [
    "## The Python package that we use for ML\n",
    "\n",
    "Sklearn\n",
    "\n",
    "The OOP paradigm for all Sklearn models: \n",
    "https://www.springboard.com/blog/wp-content/uploads/2016/07/UltimateGuidetoDataScienceInterviews-1.pdf"
   ]
  },
  {
   "cell_type": "markdown",
   "metadata": {},
   "source": [
    "## ML Steps:\n",
    "\n",
    "1- Data Reading and Cleaning\n",
    "\n",
    "2- Data Preprocessing\n",
    "\n",
    "3- Data Splitting\n",
    "\n",
    "4- Model selection\n",
    "\n",
    "5- Model Fitting\n",
    "\n",
    "6- Model Evaluation"
   ]
  },
  {
   "cell_type": "markdown",
   "metadata": {},
   "source": [
    "## How do we evalue the machine learning models?\n",
    "\n",
    "For supervised learning it is possible to evaluate the model from train and test data\n",
    "\n",
    "For regression, the evaluation metrics are:\n",
    "\n",
    "1. Mean Squared Error (MSE)\n",
    "\n",
    "2. Mean Absolute Error (MAE)\n",
    "\n",
    "For classification, the evaluation metrics are:\n",
    "\n",
    "1. Classification Accuracy\n",
    "\n",
    "2. Classification Recall, Precision and F1 score\n",
    "\n",
    "\n",
    "For unsupervised learning there are no systematic approach to evaluate the models but the are ways to do it  "
   ]
  }
 ],
 "metadata": {
  "celltoolbar": "Slideshow",
  "kernelspec": {
   "display_name": "Python 3",
   "language": "python",
   "name": "python3"
  },
  "language_info": {
   "codemirror_mode": {
    "name": "ipython",
    "version": 3
   },
   "file_extension": ".py",
   "mimetype": "text/x-python",
   "name": "python",
   "nbconvert_exporter": "python",
   "pygments_lexer": "ipython3",
   "version": "3.6.5"
  }
 },
 "nbformat": 4,
 "nbformat_minor": 2
}
