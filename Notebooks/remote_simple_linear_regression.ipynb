{
 "cells": [
  {
   "cell_type": "markdown",
   "metadata": {},
   "source": [
    "## Learning Objectives \n",
    "\n",
    "- Review of Linear Regression that we learned in QL\n",
    "\n",
    "- How we can obtain the best slope and intercept using sklearn \n",
    "\n",
    "- How we can evaluate the linear regression model"
   ]
  },
  {
   "cell_type": "markdown",
   "metadata": {},
   "source": [
    "## Review of Linear Regression\n",
    "\n",
    "- We want to present the relationship between variables linearly, for example, recall the running distance and drinking water \n",
    "\n",
    "- In regression, we are interested in predicting a scalar-valued target, such as the price of a stock.\n",
    "\n",
    "- By linear, we mean that the target must be predicted as a linear function of the inputs"
   ]
  },
  {
   "cell_type": "markdown",
   "metadata": {},
   "source": [
    "## Simple Linear Regression \n",
    "\n",
    "<img src=\"Images/lreg_1.png\" width=\"600\" height=\"600\">\n",
    "\n",
    "\n",
    "What elements are present in the diagram?\n",
    "\n",
    "The black dots are the observed values of x and y.\n",
    "\n",
    "The blue line is our prediction.\n",
    "\n",
    "The red lines are the errors, which are the distances between the observed values and the prediction."
   ]
  },
  {
   "cell_type": "markdown",
   "metadata": {},
   "source": [
    "## Activity: \n",
    "\n",
    "- The distances that a runner has been run (in Mile) and the amount of water that he/she drinks (in Liters) is given \n",
    "\n",
    "## Do:\n",
    "\n",
    "- Plot the scatter of distance versus water that consumed  \n",
    "- Find the best line that describes this relationship\n",
    "- Plot the best line that you found"
   ]
  },
  {
   "cell_type": "code",
   "execution_count": 2,
   "metadata": {},
   "outputs": [
    {
     "data": {
      "text/plain": [
       "Text(0,0.5,'Water Drinks (Litre)')"
      ]
     },
     "execution_count": 2,
     "metadata": {},
     "output_type": "execute_result"
    },
    {
     "data": {
      "image/png": "[encoded data removed]",
      "text/plain": [
       "<Figure size 432x288 with 1 Axes>"
      ]
     },
     "metadata": {},
     "output_type": "display_data"
    }
   ],
   "source": [
    "import numpy as np\n",
    "import matplotlib.pyplot as plt\n",
    "\n",
    "X = np.array([3.3,4.4,5.5,6.71,6.93,4.168,9.779,6.182,7.59,2.167,\n",
    "                         7.042,10.791,5.313,7.997,5.654,9.27,3.1])\n",
    "\n",
    "\n",
    "Y = np.array([1.7,2.76,2.09,3.19,1.694,1.573,3.366,2.596,2.53,1.221,\n",
    "                         2.827,3.465,1.65,2.904,2.42,2.94,1.3])\n",
    "\n",
    "plt.scatter(X, Y)\n",
    "plt.xlabel('Running Distance (Mile)')\n",
    "plt.ylabel('Water Drinks (Litre)')"
   ]
  },
  {
   "cell_type": "markdown",
   "metadata": {},
   "source": [
    "## Important data format passing to sklearn:"
   ]
  },
  {
   "cell_type": "code",
   "execution_count": 12,
   "metadata": {},
   "outputs": [
    {
     "name": "stdout",
     "output_type": "stream",
     "text": [
      "[[ 3.3  ]\n",
      " [ 4.4  ]\n",
      " [ 5.5  ]\n",
      " [ 6.71 ]\n",
      " [ 6.93 ]\n",
      " [ 4.168]\n",
      " [ 9.779]\n",
      " [ 6.182]\n",
      " [ 7.59 ]\n",
      " [ 2.167]\n",
      " [ 7.042]\n",
      " [10.791]\n",
      " [ 5.313]\n",
      " [ 7.997]\n",
      " [ 5.654]]\n"
     ]
    }
   ],
   "source": [
    "X = np.array([3.3,4.4,5.5,6.71,6.93,4.168,9.779,6.182,7.59,2.167,\n",
    "                         7.042,10.791,5.313,7.997,5.654])\n",
    "\n",
    "print(X.reshape(-1, 1))"
   ]
  },
  {
   "cell_type": "markdown",
   "metadata": {},
   "source": [
    "## Activity: Obtain the best slope and intercept for given data using sklearn"
   ]
  },
  {
   "cell_type": "code",
   "execution_count": 3,
   "metadata": {},
   "outputs": [
    {
     "name": "stdout",
     "output_type": "stream",
     "text": [
      "[[0.25163494]]\n",
      "[0.79880123]\n"
     ]
    }
   ],
   "source": [
    "from sklearn.linear_model import LinearRegression\n",
    "\n",
    "lr_reg = LinearRegression()\n",
    "\n",
    "lr_reg.fit(X.reshape(-1, 1), Y.reshape(-1, 1))\n",
    "\n",
    "print(lr_reg.coef_)\n",
    "\n",
    "print(lr_reg.intercept_)"
   ]
  },
  {
   "cell_type": "markdown",
   "metadata": {},
   "source": [
    "## Question: \n",
    "\n",
    "- If this runner runs for 5 miles, how much water he/she will drink?"
   ]
  },
  {
   "cell_type": "code",
   "execution_count": 4,
   "metadata": {},
   "outputs": [
    {
     "data": {
      "text/plain": [
       "array([[2.05697595]])"
      ]
     },
     "execution_count": 4,
     "metadata": {},
     "output_type": "execute_result"
    }
   ],
   "source": [
    "lr_reg.predict([[5.0]])"
   ]
  },
  {
   "cell_type": "markdown",
   "metadata": {},
   "source": [
    "## Question: \n",
    "\n",
    "- What is the mean-squared-error of our Linear Regression Model?"
   ]
  },
  {
   "cell_type": "code",
   "execution_count": 7,
   "metadata": {},
   "outputs": [
    {
     "name": "stdout",
     "output_type": "stream",
     "text": [
      "0.15385767404191164\n"
     ]
    },
    {
     "data": {
      "image/png": "[encoded data removed]",
      "text/plain": [
       "<Figure size 432x288 with 1 Axes>"
      ]
     },
     "metadata": {},
     "output_type": "display_data"
    }
   ],
   "source": [
    "y_predicted = list(map(lambda x: 0.25163494*x + 0.79880123, X))\n",
    "plt.scatter(X, Y)\n",
    "plt.plot(X, y_predicted ,'r')\n",
    "error = sum([ (i-j)**2 for i, j in zip(Y, y_predicted) ]) / len(Y)\n",
    "print(error)"
   ]
  },
  {
   "cell_type": "markdown",
   "metadata": {},
   "source": [
    "## Question: what are the metrics in order to evaluate Regression Model?\n",
    "\n",
    "1 - Mean-Squared-Error (MSE)\n",
    "\n",
    "2- R-Squared: is a number between 0 to 1, close to one means better model"
   ]
  },
  {
   "cell_type": "markdown",
   "metadata": {},
   "source": [
    "## Activity: How much companies' sales would be based on their product advertisement?\n",
    "\n",
    "- Different companies (150 companies) spent money to advertise their product on TV, radio and newspaper\n",
    "\n",
    "- Based on their advertisments, they have calculated the sale that they had\n",
    "\n",
    "- For some new companies (50), they want to have an estimation if spend X dollar, Y dollar and Z dollar \n",
    "\n",
    "on TV, radio and newspaper, respectively, how much their sales would be?"
   ]
  },
  {
   "cell_type": "code",
   "execution_count": 8,
   "metadata": {},
   "outputs": [
    {
     "name": "stdout",
     "output_type": "stream",
     "text": [
      "Generating a linear regression on the top 150 companies (first one)\n",
      "Printing the coefficient and y intercept of our first 150 sales\n",
      "[ 0.04700012  0.17993257 -0.00140273]\n",
      "3.0297667962936856\n",
      "Predicting the sales of the bottom 50 companies (last ones)\n",
      "[18.67186188 10.15990172 16.48950045 18.17132726 15.63964047  5.30168953\n",
      " 15.19930681 10.27021058 10.15577653 12.48190724 14.35100299 13.43010832\n",
      " 15.10545883 17.32542469 11.17561481 14.54411372 10.60623457 13.6578278\n",
      " 17.31920373 18.29020846  7.44118029 14.4553876   7.54376735 12.20415315\n",
      " 14.07598825 24.7841683  20.11008458 12.38328494 16.41529992 12.58762415\n",
      " 10.84616747 14.23249384  6.65512798 24.18338541 18.74887883 20.75225663\n",
      "  9.92682913 17.15002463 18.96767352  6.05302918 12.27336433  8.51313117\n",
      "  4.53156602 18.42150484 16.46286778  5.47156415  8.32748549 13.01318332\n",
      " 23.82330766 15.4737108 ]\n",
      "0.8963519785440214\n",
      "0.8963519785440214\n"
     ]
    }
   ],
   "source": [
    "import pandas as pd\n",
    "from sklearn.linear_model import LinearRegression\n",
    "from sklearn.metrics import r2_score\n",
    "\n",
    "\n",
    "df = pd.read_csv(\"Advertising.csv\")\n",
    "feature_cols = [\"TV\", \"radio\", \"newspaper\"]\n",
    "\n",
    "# Use the top 150 companies to train the Linear Regression Model\n",
    "X_train = df[feature_cols][:150]\n",
    "Y_train = df.sales[:150]\n",
    "\n",
    "# Instansiate the model (Linear Regression) and train it\n",
    "print(\"Generating a linear regression on the top 150 companies (first one)\")\n",
    "sales_reg = LinearRegression()\n",
    "sales_reg.fit(X_train, Y_train)\n",
    "\n",
    "print(\"Printing the coefficient and y intercept of our first 150 sales\")\n",
    "print(sales_reg.coef_)\n",
    "print(sales_reg.intercept_)\n",
    "\n",
    "# Predict the botton 50 companies' sales\n",
    "X_test = df[feature_cols][-50:]\n",
    "Y_test = df.sales[-50:]\n",
    "print(\"Predicting the sales of the bottom 50 companies (last ones)\")\n",
    "print(sales_reg.predict(X_test))\n",
    "\n",
    "print(sales_reg.score(X_test, Y_test))\n",
    "print(r2_score(Y_test, sales_reg.predict(X_test)))"
   ]
  },
  {
   "cell_type": "markdown",
   "metadata": {},
   "source": [
    "### Question: If a new company spends  100, 100 and 20 on TV, radio and newspaper, respectively on advertisement:\n",
    "\n",
    "### How much sale it would have?"
   ]
  },
  {
   "cell_type": "code",
   "execution_count": 9,
   "metadata": {},
   "outputs": [
    {
     "data": {
      "text/plain": [
       "array([25.69498118])"
      ]
     },
     "execution_count": 9,
     "metadata": {},
     "output_type": "execute_result"
    }
   ],
   "source": [
    "sales_reg.predict([[100, 100, 20]])"
   ]
  },
  {
   "cell_type": "code",
   "execution_count": null,
   "metadata": {},
   "outputs": [],
   "source": []
  }
 ],
 "metadata": {
  "kernelspec": {
   "display_name": "Python 3",
   "language": "python",
   "name": "python3"
  },
  "language_info": {
   "codemirror_mode": {
    "name": "ipython",
    "version": 3
   },
   "file_extension": ".py",
   "mimetype": "text/x-python",
   "name": "python",
   "nbconvert_exporter": "python",
   "pygments_lexer": "ipython3",
   "version": "3.6.5"
  }
 },
 "nbformat": 4,
 "nbformat_minor": 2
}
