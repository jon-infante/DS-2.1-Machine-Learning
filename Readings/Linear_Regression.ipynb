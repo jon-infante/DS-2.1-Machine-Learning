{
 "cells": [
  {
   "cell_type": "markdown",
   "metadata": {},
   "source": [
    "## Linear Regression\n",
    "\n",
    "- We want to present the relationship between (two) variables linearly\n",
    "\n",
    "- For example, recall the running distance and drinking water \n",
    "\n",
    "- We are interested to obtain the best line describing by `y_pred[i] = w_1 x[i] +w_0` that map running distance to drinking water"
   ]
  },
  {
   "cell_type": "code",
   "execution_count": 2,
   "metadata": {},
   "outputs": [
    {
     "data": {
      "text/plain": [
       "Text(0,0.5,'Water Drinks (Litre)')"
      ]
     },
     "execution_count": 2,
     "metadata": {},
     "output_type": "execute_result"
    },
    {
     "data": {
      "image/png": "[encoded data removed]",
      "text/plain": [
       "<Figure size 432x288 with 1 Axes>"
      ]
     },
     "metadata": {},
     "output_type": "display_data"
    }
   ],
   "source": [
    "import numpy as np\n",
    "import matplotlib.pyplot as plt\n",
    "\n",
    "# Running Distance in Mile\n",
    "x = np.array([3.3,4.4,5.5,6.71,6.93,4.168,9.779,6.182,7.59,2.167,\n",
    "                         7.042,10.791,5.313,7.997,5.654,9.27,3.1])\n",
    "\n",
    "# Water Drinks in Litre\n",
    "y = np.array([1.7,2.76,2.09,3.19,1.694,1.573,3.366,2.596,2.53,1.221,\n",
    "                         2.827,3.465,1.65,2.904,2.42,2.94,1.3])\n",
    "\n",
    "plt.scatter(x, y)\n",
    "plt.xlabel('Running Distance (Mile)')\n",
    "plt.ylabel('Water Drinks (Litre)')"
   ]
  },
  {
   "cell_type": "markdown",
   "metadata": {},
   "source": [
    "## We should define error\n",
    "\n",
    "- For linear relationship, mean-square-error (MSE) represents is it a good line (good model) or not  \n",
    "\n",
    "- $E[i] = y_{pred}[i] - y[i]$\n",
    "\n",
    "- $MSE = \\frac{1}{N} \\sum_{i=0}^{N-1} E[i]^2$\n",
    "\n",
    "- $MSE = \\frac{1}{N} \\sum_{i=0}^{N-1} (y_{pred}[i] - y[i])^2$ \n",
    "\n",
    "- $N = len(y)$"
   ]
  },
  {
   "cell_type": "markdown",
   "metadata": {},
   "source": [
    "## Activity:\n",
    "\n",
    "Obtain the MSE for \n",
    "\n",
    "1- `y_pred[i] = 0.7*x[i] + 0.3`\n",
    "\n",
    "2- `y_pred[i] = 0.25163494*x[i] + 0.79880123`\n",
    "\n",
    "Hint: Your function take four input arguments: 1- y, 2- x, 3- slope, 4-intercept"
   ]
  },
  {
   "cell_type": "code",
   "execution_count": 29,
   "metadata": {},
   "outputs": [
    {
     "name": "stdout",
     "output_type": "stream",
     "text": [
      "6.518593101764703\n"
     ]
    }
   ],
   "source": [
    "def min_sq_error(y, x, w1, w0):\n",
    "    y_pred = [w1*i + w0 for i in x]\n",
    "    sum_squared_error = sum([(i-j)**2 for i,j in zip(y_pred, y)])\n",
    "    N = len(y)\n",
    "    mse = sum_squared_error/N\n",
    "    return mse\n",
    "\n",
    "print(min_sq_error(y, x, 0.7, 0.3))"
   ]
  },
  {
   "cell_type": "code",
   "execution_count": 30,
   "metadata": {},
   "outputs": [
    {
     "name": "stdout",
     "output_type": "stream",
     "text": [
      "0.15385767404191164\n"
     ]
    }
   ],
   "source": [
    "print(min_sq_error(y, x, 0.25163494, 0.79880123))"
   ]
  },
  {
   "cell_type": "markdown",
   "metadata": {},
   "source": [
    "## Mathematically:\n",
    "\n",
    "$MSE = \\frac{1}{N} \\sum_{i=0}^{N-1} (y_{pred}[i] - y[i])^2$ \n",
    "\n",
    "$MSE = \\frac{1}{N} \\sum_{i=0}^{N-1} (w_1x[i] + w_0 - y[i])^2$ \n",
    "\n",
    "Compute: \n",
    "\n",
    "$\\frac{\\partial MSE}{\\partial w_1}$ \n",
    "\n",
    "and\n",
    "\n",
    "$\\frac{\\partial MSE}{\\partial w_0}$\n",
    "\n",
    "then obtain $w_1$ and $w_0$ such that :\n",
    "\n",
    "\n",
    "$\\frac{\\partial MSE}{\\partial w_1} = 0$ \n",
    "\n",
    "and\n",
    "\n",
    "$\\frac{\\partial MSE}{\\partial w_0} = 0$"
   ]
  },
  {
   "cell_type": "markdown",
   "metadata": {},
   "source": [
    "## Activities:\n",
    "\n",
    "<img src=\"activities.png\" width=\"600\" height=\"600\">"
   ]
  },
  {
   "cell_type": "code",
   "execution_count": 3,
   "metadata": {},
   "outputs": [],
   "source": [
    "from scipy import stats\n",
    "\n",
    "slope, intercept, r_value, p_value, std_err = stats.linregress(x, y)"
   ]
  },
  {
   "cell_type": "code",
   "execution_count": 16,
   "metadata": {},
   "outputs": [
    {
     "name": "stdout",
     "output_type": "stream",
     "text": [
      "0.25163494428355404\n"
     ]
    }
   ],
   "source": [
    "print(slope)"
   ]
  },
  {
   "cell_type": "code",
   "execution_count": 17,
   "metadata": {},
   "outputs": [
    {
     "name": "stdout",
     "output_type": "stream",
     "text": [
      "0.7988012261753894\n"
     ]
    }
   ],
   "source": [
    "print(intercept)"
   ]
  },
  {
   "cell_type": "code",
   "execution_count": 18,
   "metadata": {},
   "outputs": [
    {
     "name": "stdout",
     "output_type": "stream",
     "text": [
      "r-squared: 0.6928760302783604\n"
     ]
    }
   ],
   "source": [
    "print(\"r-squared:\", r_value**2)"
   ]
  },
  {
   "cell_type": "code",
   "execution_count": 4,
   "metadata": {},
   "outputs": [
    {
     "name": "stdout",
     "output_type": "stream",
     "text": [
      "0.0432568020417479\n"
     ]
    }
   ],
   "source": [
    "print(std_err)"
   ]
  },
  {
   "cell_type": "code",
   "execution_count": 31,
   "metadata": {},
   "outputs": [
    {
     "name": "stdout",
     "output_type": "stream",
     "text": [
      "[-0.07080346800000004, -0.8540050339999998, 0.09279340000000014, -0.7027283226000001, 0.8486313642000001, 0.27461565992000003, -0.10646069174000017, -0.24159157091999983, 0.17871042459999975, 0.12309414497999982, -0.25618552252000004, 0.0491938675400001, 0.4857376662199999, -0.09287415482000005, -0.1984548192400002, 0.1914571237999998, 0.27886954399999997]\n"
     ]
    }
   ],
   "source": [
    "def min_sq_error(y, x, w1, w0):\n",
    "    y_pred = [w1*i + w0 for i in x]\n",
    "    error  = [(i-j) for i,j in zip(y_pred, y)]\n",
    "    sum_squared_error = sum([(i-j)**2 for i,j in zip(y_pred, y)])\n",
    "    N = len(y)\n",
    "    mse = sum_squared_error/N\n",
    "    return mse, error\n",
    "\n",
    "print(min_sq_error(y, x, 0.25163494, 0.79880123)[1])"
   ]
  },
  {
   "cell_type": "markdown",
   "metadata": {},
   "source": [
    "## Obtain the mean and std of error for optimal line"
   ]
  },
  {
   "cell_type": "code",
   "execution_count": 41,
   "metadata": {},
   "outputs": [
    {
     "data": {
      "text/plain": [
       "0.39224695542720417"
      ]
     },
     "execution_count": 41,
     "metadata": {},
     "output_type": "execute_result"
    }
   ],
   "source": [
    "np.mean(min_sq_error(y, x, 0.25163494, 0.79880123)[1])\n",
    "np.std(min_sq_error(y, x, 0.25163494, 0.79880123)[1])"
   ]
  },
  {
   "cell_type": "markdown",
   "metadata": {},
   "source": [
    "## Plot the distribution of the error for optimal line"
   ]
  },
  {
   "cell_type": "code",
   "execution_count": 37,
   "metadata": {},
   "outputs": [
    {
     "name": "stderr",
     "output_type": "stream",
     "text": [
      "/Users/miladtoutounchian/anaconda3/lib/python3.6/site-packages/scipy/stats/stats.py:1713: FutureWarning: Using a non-tuple sequence for multidimensional indexing is deprecated; use `arr[tuple(seq)]` instead of `arr[seq]`. In the future this will be interpreted as an array index, `arr[np.array(seq)]`, which will result either in an error or a different result.\n",
      "  return np.add.reduce(sorted[indexer] * weights, axis=axis) / sumval\n"
     ]
    },
    {
     "data": {
      "text/plain": [
       "<matplotlib.axes._subplots.AxesSubplot at 0x1a1ec72908>"
      ]
     },
     "execution_count": 37,
     "metadata": {},
     "output_type": "execute_result"
    },
    {
     "data": {
      "image/png": "[encoded data removed]",
      "text/plain": [
       "<Figure size 432x288 with 1 Axes>"
      ]
     },
     "metadata": {},
     "output_type": "display_data"
    }
   ],
   "source": [
    "import seaborn as sns\n",
    "sns.distplot(min_sq_error(y, x, 0.25163494, 0.79880123)[1], hist=True, kde=True, bins=4)"
   ]
  },
  {
   "cell_type": "code",
   "execution_count": 34,
   "metadata": {},
   "outputs": [
    {
     "name": "stdout",
     "output_type": "stream",
     "text": [
      "0.692876030278359\n"
     ]
    }
   ],
   "source": [
    "def f_r_sq(y, x, w1, w0):\n",
    "    y_pred = [w1*i + w0 for i in x]\n",
    "    SS_res = sum([(i-j)**2 for i,j in zip(y_pred, y)])\n",
    "    SS_tot = sum([(i - np.mean(y))**2 for i in y])\n",
    "    return 1- SS_res/SS_tot\n",
    "\n",
    "print(f_r_sq(y, x, 0.25163494, 0.79880123))"
   ]
  },
  {
   "cell_type": "markdown",
   "metadata": {},
   "source": [
    "## Derive the slope and intercept\n",
    "\n",
    "- After taking partial derivative of mean-squared-error and setting to zero for both $w_1$ and $w_0$ ($\\frac{\\partial MSE}{\\partial w_1} = 0$ $\\frac{\\partial MSE}{\\partial w_0} = 0$)\n",
    "\n",
    "- $w_1 = \\frac{{\\bar xy} - {\\bar x}{\\bar y}}{\\bar {x^2} - {\\bar x}^2}$\n",
    "- $w_0 = {\\bar y} - w_1{\\bar x}$"
   ]
  },
  {
   "cell_type": "code",
   "execution_count": 50,
   "metadata": {},
   "outputs": [
    {
     "name": "stdout",
     "output_type": "stream",
     "text": [
      "(0.25163494428355315, 0.7988012261753947)\n"
     ]
    }
   ],
   "source": [
    "def slope_intercept_LR(x, y):\n",
    "    w1 = (np.mean([i*j for i, j in zip(x, y)]) - np.mean(x)*np.mean(y))/(np.mean([i*i for i in x]) - np.mean(x)**2)\n",
    "    w0= np.mean(y) - w1*np.mean(x)\n",
    "    return w1, w0\n",
    "\n",
    "print(slope_intercept_LR(x, y))"
   ]
  },
  {
   "cell_type": "markdown",
   "metadata": {},
   "source": [
    "## In almost all applications we update the slope and intercept through iteration\n",
    "\n",
    " - $w_1 = w_1 - \\eta*\\frac{\\partial MSE}{\\partial w_1}$\n",
    " - $w_0 = w_0 - \\eta*\\frac{\\partial MSE}{\\partial w_0}$"
   ]
  },
  {
   "cell_type": "code",
   "execution_count": 5,
   "metadata": {},
   "outputs": [
    {
     "name": "stdout",
     "output_type": "stream",
     "text": [
      "-0.6054090863116374\n",
      "0.08001160212963707\n",
      "0.2516353668855077\n",
      "0.7987982302621295\n"
     ]
    }
   ],
   "source": [
    "xx_bar = np.mean([i*i for i in x])\n",
    "xy_bar = np.mean([i*j for i, j in zip(x, y)])                  \n",
    "x_bar = np.mean(x)\n",
    "y_bar = np.mean(y) \n",
    "                 \n",
    "w_0 = np.random.randn()\n",
    "w_1 = np.random.randn()\n",
    "print(w_1)\n",
    "print(w_0)\n",
    "epoch = 5000\n",
    "for _ in range(epoch):\n",
    "    w_1 = w_1 - 0.01*(2*w_1*xx_bar + 2*w_0*x_bar-2*xy_bar)\n",
    "    w_0 = w_0 - 0.01*(2*w_1*x_bar+2*w_0-2*y_bar)\n",
    "print(w_1)\n",
    "print(w_0)"
   ]
  },
  {
   "cell_type": "code",
   "execution_count": 6,
   "metadata": {},
   "outputs": [
    {
     "name": "stdout",
     "output_type": "stream",
     "text": [
      "0.2518148922529888\n",
      "0.7975255375448015\n",
      "2889\n"
     ]
    }
   ],
   "source": [
    "# optional reading\n",
    "# It is better to have while loop, if |J(w1,w0) at n+1 ietration - J(w1,w0) at n ietration|<=eps stop the while loop\n",
    "import numpy as np\n",
    "\n",
    "# Running Distance in Mile\n",
    "x = np.array([3.3,4.4,5.5,6.71,6.93,4.168,9.779,6.182,7.59,2.167,\n",
    "                         7.042,10.791,5.313,7.997,5.654,9.27,3.1])\n",
    "\n",
    "# Water Drinks in Litre\n",
    "y = np.array([1.7,2.76,2.09,3.19,1.694,1.573,3.366,2.596,2.53,1.221,\n",
    "                         2.827,3.465,1.65,2.904,2.42,2.94,1.3])\n",
    "\n",
    "N = len(y)\n",
    "xx_bar = np.mean([i*i for i in x])\n",
    "xy_bar = np.mean([i*j for i, j in zip(x, y)])                  \n",
    "x_bar = np.mean(x)\n",
    "y_bar = np.mean(y) \n",
    "                 \n",
    "w_0 = np.random.randn()\n",
    "w_1 = np.random.randn()\n",
    "\n",
    "iteration = 0 \n",
    "while True if iteration == 0 else np.abs(E2 - E1) >= 0.000000001:\n",
    "    y_pred = [w_1*i + w_0 for i in x]\n",
    "    error  = [(i-j) for i,j in zip(y_pred, y)]\n",
    "    sum_squared_error = sum([(i-j)**2 for i,j in zip(y_pred, y)])\n",
    "    E1 = sum_squared_error/N \n",
    "    \n",
    "    w_1 = w_1 - 0.01*(2*w_1*xx_bar + 2*w_0*x_bar-2*xy_bar)\n",
    "    w_0 = w_0 - 0.01*(2*w_1*x_bar+2*w_0-2*y_bar)  \n",
    "    \n",
    "    y_pred = [w_1*i + w_0 for i in x]\n",
    "    error  = [(i-j) for i,j in zip(y_pred, y)]\n",
    "    sum_squared_error = sum([(i-j)**2 for i,j in zip(y_pred, y)])\n",
    "    E2 = sum_squared_error/N \n",
    "    \n",
    "    iteration += 1\n",
    "    \n",
    "print(w_1)\n",
    "print(w_0)\n",
    "print(iteration)"
   ]
  }
 ],
 "metadata": {
  "kernelspec": {
   "display_name": "Python 3",
   "language": "python",
   "name": "python3"
  },
  "language_info": {
   "codemirror_mode": {
    "name": "ipython",
    "version": 3
   },
   "file_extension": ".py",
   "mimetype": "text/x-python",
   "name": "python",
   "nbconvert_exporter": "python",
   "pygments_lexer": "ipython3",
   "version": "3.7.4"
  }
 },
 "nbformat": 4,
 "nbformat_minor": 2
}
